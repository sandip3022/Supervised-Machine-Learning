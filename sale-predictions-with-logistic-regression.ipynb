{
 "cells": [
  {
   "cell_type": "code",
   "execution_count": 1,
   "id": "f15eeb0a",
   "metadata": {
    "_cell_guid": "b1076dfc-b9ad-4769-8c92-a6c4dae69d19",
    "_uuid": "8f2839f25d086af736a60e9eeb907d3b93b6e0e5",
    "execution": {
     "iopub.execute_input": "2023-09-06T19:09:30.681462Z",
     "iopub.status.busy": "2023-09-06T19:09:30.680825Z",
     "iopub.status.idle": "2023-09-06T19:09:31.058214Z",
     "shell.execute_reply": "2023-09-06T19:09:31.056725Z"
    },
    "papermill": {
     "duration": 0.394477,
     "end_time": "2023-09-06T19:09:31.060672",
     "exception": false,
     "start_time": "2023-09-06T19:09:30.666195",
     "status": "completed"
    },
    "tags": []
   },
   "outputs": [
    {
     "name": "stdout",
     "output_type": "stream",
     "text": [
      "/kaggle/input/sales-pred/DigitalAd_dataset.csv\n"
     ]
    }
   ],
   "source": [
    "# imports\n",
    "import numpy as np # linear algebra\n",
    "import pandas as pd # data processing, CSV file I/O (e.g. pd.read_csv)\n",
    "import matplotlib.pyplot as plt\n",
    "import os\n",
    "for dirname, _, filenames in os.walk('/kaggle/input'):\n",
    "    for filename in filenames:\n",
    "        print(os.path.join(dirname, filename))"
   ]
  },
  {
   "cell_type": "markdown",
   "id": "51bc8e9c",
   "metadata": {
    "papermill": {
     "duration": 0.012854,
     "end_time": "2023-09-06T19:09:31.089899",
     "exception": false,
     "start_time": "2023-09-06T19:09:31.077045",
     "status": "completed"
    },
    "tags": []
   },
   "source": [
    "# 1. Problem Statement:\n",
    "\n",
    "There is Age and Salary given as input, from this have to predict, weather person purchase product or not"
   ]
  },
  {
   "cell_type": "markdown",
   "id": "dc117b22",
   "metadata": {
    "papermill": {
     "duration": 0.012806,
     "end_time": "2023-09-06T19:09:31.115451",
     "exception": false,
     "start_time": "2023-09-06T19:09:31.102645",
     "status": "completed"
    },
    "tags": []
   },
   "source": [
    "Name: Sandip Anap"
   ]
  },
  {
   "cell_type": "markdown",
   "id": "9b1dc2e8",
   "metadata": {
    "papermill": {
     "duration": 0.012707,
     "end_time": "2023-09-06T19:09:31.141016",
     "exception": false,
     "start_time": "2023-09-06T19:09:31.128309",
     "status": "completed"
    },
    "tags": []
   },
   "source": [
    "# 2. Load Data"
   ]
  },
  {
   "cell_type": "code",
   "execution_count": 2,
   "id": "361a0611",
   "metadata": {
    "execution": {
     "iopub.execute_input": "2023-09-06T19:09:31.167885Z",
     "iopub.status.busy": "2023-09-06T19:09:31.167390Z",
     "iopub.status.idle": "2023-09-06T19:09:31.200469Z",
     "shell.execute_reply": "2023-09-06T19:09:31.199382Z"
    },
    "papermill": {
     "duration": 0.049806,
     "end_time": "2023-09-06T19:09:31.203101",
     "exception": false,
     "start_time": "2023-09-06T19:09:31.153295",
     "status": "completed"
    },
    "tags": []
   },
   "outputs": [
    {
     "data": {
      "text/html": [
       "<div>\n",
       "<style scoped>\n",
       "    .dataframe tbody tr th:only-of-type {\n",
       "        vertical-align: middle;\n",
       "    }\n",
       "\n",
       "    .dataframe tbody tr th {\n",
       "        vertical-align: top;\n",
       "    }\n",
       "\n",
       "    .dataframe thead th {\n",
       "        text-align: right;\n",
       "    }\n",
       "</style>\n",
       "<table border=\"1\" class=\"dataframe\">\n",
       "  <thead>\n",
       "    <tr style=\"text-align: right;\">\n",
       "      <th></th>\n",
       "      <th>Age</th>\n",
       "      <th>Salary</th>\n",
       "      <th>Status</th>\n",
       "    </tr>\n",
       "  </thead>\n",
       "  <tbody>\n",
       "    <tr>\n",
       "      <th>0</th>\n",
       "      <td>18</td>\n",
       "      <td>82000</td>\n",
       "      <td>0</td>\n",
       "    </tr>\n",
       "    <tr>\n",
       "      <th>1</th>\n",
       "      <td>29</td>\n",
       "      <td>80000</td>\n",
       "      <td>0</td>\n",
       "    </tr>\n",
       "    <tr>\n",
       "      <th>2</th>\n",
       "      <td>47</td>\n",
       "      <td>25000</td>\n",
       "      <td>1</td>\n",
       "    </tr>\n",
       "    <tr>\n",
       "      <th>3</th>\n",
       "      <td>45</td>\n",
       "      <td>26000</td>\n",
       "      <td>1</td>\n",
       "    </tr>\n",
       "    <tr>\n",
       "      <th>4</th>\n",
       "      <td>46</td>\n",
       "      <td>28000</td>\n",
       "      <td>1</td>\n",
       "    </tr>\n",
       "  </tbody>\n",
       "</table>\n",
       "</div>"
      ],
      "text/plain": [
       "   Age  Salary  Status\n",
       "0   18   82000       0\n",
       "1   29   80000       0\n",
       "2   47   25000       1\n",
       "3   45   26000       1\n",
       "4   46   28000       1"
      ]
     },
     "execution_count": 2,
     "metadata": {},
     "output_type": "execute_result"
    }
   ],
   "source": [
    "data = pd.read_csv(\"/kaggle/input/sales-pred/DigitalAd_dataset.csv\")\n",
    "data.head()"
   ]
  },
  {
   "cell_type": "markdown",
   "id": "02b0a78b",
   "metadata": {
    "papermill": {
     "duration": 0.01245,
     "end_time": "2023-09-06T19:09:31.228693",
     "exception": false,
     "start_time": "2023-09-06T19:09:31.216243",
     "status": "completed"
    },
    "tags": []
   },
   "source": [
    "# 3. Data Cleaning"
   ]
  },
  {
   "cell_type": "code",
   "execution_count": 3,
   "id": "582cc14c",
   "metadata": {
    "execution": {
     "iopub.execute_input": "2023-09-06T19:09:31.255340Z",
     "iopub.status.busy": "2023-09-06T19:09:31.254932Z",
     "iopub.status.idle": "2023-09-06T19:09:31.281410Z",
     "shell.execute_reply": "2023-09-06T19:09:31.280206Z"
    },
    "papermill": {
     "duration": 0.042508,
     "end_time": "2023-09-06T19:09:31.283806",
     "exception": false,
     "start_time": "2023-09-06T19:09:31.241298",
     "status": "completed"
    },
    "tags": []
   },
   "outputs": [
    {
     "name": "stdout",
     "output_type": "stream",
     "text": [
      "<class 'pandas.core.frame.DataFrame'>\n",
      "RangeIndex: 400 entries, 0 to 399\n",
      "Data columns (total 3 columns):\n",
      " #   Column  Non-Null Count  Dtype\n",
      "---  ------  --------------  -----\n",
      " 0   Age     400 non-null    int64\n",
      " 1   Salary  400 non-null    int64\n",
      " 2   Status  400 non-null    int64\n",
      "dtypes: int64(3)\n",
      "memory usage: 9.5 KB\n"
     ]
    }
   ],
   "source": [
    "data.info()"
   ]
  },
  {
   "cell_type": "markdown",
   "id": "8438ea0c",
   "metadata": {
    "papermill": {
     "duration": 0.012841,
     "end_time": "2023-09-06T19:09:31.309955",
     "exception": false,
     "start_time": "2023-09-06T19:09:31.297114",
     "status": "completed"
    },
    "tags": []
   },
   "source": [
    "Our data has 2 features, `Age` and `Salary` and label is `Status`. There are total 400 samples of data. In Status 1: Purchase and 0: Not Purchase."
   ]
  },
  {
   "cell_type": "code",
   "execution_count": 4,
   "id": "20e29a3a",
   "metadata": {
    "execution": {
     "iopub.execute_input": "2023-09-06T19:09:31.337546Z",
     "iopub.status.busy": "2023-09-06T19:09:31.337163Z",
     "iopub.status.idle": "2023-09-06T19:09:31.345286Z",
     "shell.execute_reply": "2023-09-06T19:09:31.344449Z"
    },
    "papermill": {
     "duration": 0.024593,
     "end_time": "2023-09-06T19:09:31.347354",
     "exception": false,
     "start_time": "2023-09-06T19:09:31.322761",
     "status": "completed"
    },
    "tags": []
   },
   "outputs": [
    {
     "data": {
      "text/plain": [
       "Age       0\n",
       "Salary    0\n",
       "Status    0\n",
       "dtype: int64"
      ]
     },
     "execution_count": 4,
     "metadata": {},
     "output_type": "execute_result"
    }
   ],
   "source": [
    "data.isna().sum()"
   ]
  },
  {
   "cell_type": "markdown",
   "id": "020ec8e5",
   "metadata": {
    "papermill": {
     "duration": 0.012598,
     "end_time": "2023-09-06T19:09:31.373044",
     "exception": false,
     "start_time": "2023-09-06T19:09:31.360446",
     "status": "completed"
    },
    "tags": []
   },
   "source": [
    "So, In our data there is no missing, value."
   ]
  },
  {
   "cell_type": "code",
   "execution_count": 5,
   "id": "ad37b57b",
   "metadata": {
    "execution": {
     "iopub.execute_input": "2023-09-06T19:09:31.400233Z",
     "iopub.status.busy": "2023-09-06T19:09:31.399796Z",
     "iopub.status.idle": "2023-09-06T19:09:31.408045Z",
     "shell.execute_reply": "2023-09-06T19:09:31.407081Z"
    },
    "papermill": {
     "duration": 0.024413,
     "end_time": "2023-09-06T19:09:31.410074",
     "exception": false,
     "start_time": "2023-09-06T19:09:31.385661",
     "status": "completed"
    },
    "tags": []
   },
   "outputs": [
    {
     "data": {
      "text/plain": [
       "Age       int64\n",
       "Salary    int64\n",
       "Status    int64\n",
       "dtype: object"
      ]
     },
     "execution_count": 5,
     "metadata": {},
     "output_type": "execute_result"
    }
   ],
   "source": [
    "data.dtypes"
   ]
  },
  {
   "cell_type": "markdown",
   "id": "478f851d",
   "metadata": {
    "papermill": {
     "duration": 0.012735,
     "end_time": "2023-09-06T19:09:31.496469",
     "exception": false,
     "start_time": "2023-09-06T19:09:31.483734",
     "status": "completed"
    },
    "tags": []
   },
   "source": [
    "Our data all in numeric type so there is no need to type conversion to our data."
   ]
  },
  {
   "cell_type": "markdown",
   "id": "8c49d6ca",
   "metadata": {
    "papermill": {
     "duration": 0.012612,
     "end_time": "2023-09-06T19:09:31.522016",
     "exception": false,
     "start_time": "2023-09-06T19:09:31.509404",
     "status": "completed"
    },
    "tags": []
   },
   "source": [
    "# 4. Data Visualizations."
   ]
  },
  {
   "cell_type": "markdown",
   "id": "be28b8e3",
   "metadata": {
    "papermill": {
     "duration": 0.012658,
     "end_time": "2023-09-06T19:09:31.547539",
     "exception": false,
     "start_time": "2023-09-06T19:09:31.534881",
     "status": "completed"
    },
    "tags": []
   },
   "source": [
    "### Age"
   ]
  },
  {
   "cell_type": "code",
   "execution_count": 6,
   "id": "8168a202",
   "metadata": {
    "execution": {
     "iopub.execute_input": "2023-09-06T19:09:31.574831Z",
     "iopub.status.busy": "2023-09-06T19:09:31.574409Z",
     "iopub.status.idle": "2023-09-06T19:09:31.882824Z",
     "shell.execute_reply": "2023-09-06T19:09:31.881673Z"
    },
    "papermill": {
     "duration": 0.324957,
     "end_time": "2023-09-06T19:09:31.885191",
     "exception": false,
     "start_time": "2023-09-06T19:09:31.560234",
     "status": "completed"
    },
    "tags": []
   },
   "outputs": [
    {
     "data": {
      "text/plain": [
       "<Axes: >"
      ]
     },
     "execution_count": 6,
     "metadata": {},
     "output_type": "execute_result"
    },
    {
     "data": {
      "image/png": "[encoded data removed]",
      "text/plain": [
       "<Figure size 640x480 with 1 Axes>"
      ]
     },
     "metadata": {},
     "output_type": "display_data"
    }
   ],
   "source": [
    "data[\"Age\"].hist()"
   ]
  },
  {
   "cell_type": "code",
   "execution_count": 7,
   "id": "32bbc584",
   "metadata": {
    "execution": {
     "iopub.execute_input": "2023-09-06T19:09:31.914197Z",
     "iopub.status.busy": "2023-09-06T19:09:31.913441Z",
     "iopub.status.idle": "2023-09-06T19:09:31.922029Z",
     "shell.execute_reply": "2023-09-06T19:09:31.920982Z"
    },
    "papermill": {
     "duration": 0.025665,
     "end_time": "2023-09-06T19:09:31.924298",
     "exception": false,
     "start_time": "2023-09-06T19:09:31.898633",
     "status": "completed"
    },
    "tags": []
   },
   "outputs": [
    {
     "data": {
      "text/plain": [
       "Age\n",
       "35    32\n",
       "37    20\n",
       "41    16\n",
       "42    16\n",
       "Name: count, dtype: int64"
      ]
     },
     "execution_count": 7,
     "metadata": {},
     "output_type": "execute_result"
    }
   ],
   "source": [
    "data[\"Age\"].value_counts()[:4]"
   ]
  },
  {
   "cell_type": "markdown",
   "id": "98a2f979",
   "metadata": {
    "papermill": {
     "duration": 0.014132,
     "end_time": "2023-09-06T19:09:31.952442",
     "exception": false,
     "start_time": "2023-09-06T19:09:31.938310",
     "status": "completed"
    },
    "tags": []
   },
   "source": [
    "In our data, most of the people belongs to 35 - 45 age group."
   ]
  },
  {
   "cell_type": "markdown",
   "id": "26480cce",
   "metadata": {
    "papermill": {
     "duration": 0.013391,
     "end_time": "2023-09-06T19:09:31.979758",
     "exception": false,
     "start_time": "2023-09-06T19:09:31.966367",
     "status": "completed"
    },
    "tags": []
   },
   "source": [
    "### Salary"
   ]
  },
  {
   "cell_type": "code",
   "execution_count": 8,
   "id": "ba85cc3b",
   "metadata": {
    "execution": {
     "iopub.execute_input": "2023-09-06T19:09:32.009393Z",
     "iopub.status.busy": "2023-09-06T19:09:32.008999Z",
     "iopub.status.idle": "2023-09-06T19:09:32.302613Z",
     "shell.execute_reply": "2023-09-06T19:09:32.301110Z"
    },
    "papermill": {
     "duration": 0.311354,
     "end_time": "2023-09-06T19:09:32.305095",
     "exception": false,
     "start_time": "2023-09-06T19:09:31.993741",
     "status": "completed"
    },
    "tags": []
   },
   "outputs": [
    {
     "data": {
      "text/plain": [
       "<Axes: >"
      ]
     },
     "execution_count": 8,
     "metadata": {},
     "output_type": "execute_result"
    },
    {
     "data": {
      "image/png": "[encoded data removed]",
      "text/plain": [
       "<Figure size 640x480 with 1 Axes>"
      ]
     },
     "metadata": {},
     "output_type": "display_data"
    }
   ],
   "source": [
    "data[\"Salary\"].hist()"
   ]
  },
  {
   "cell_type": "code",
   "execution_count": 9,
   "id": "323c0646",
   "metadata": {
    "execution": {
     "iopub.execute_input": "2023-09-06T19:09:32.337052Z",
     "iopub.status.busy": "2023-09-06T19:09:32.335766Z",
     "iopub.status.idle": "2023-09-06T19:09:32.345407Z",
     "shell.execute_reply": "2023-09-06T19:09:32.344370Z"
    },
    "papermill": {
     "duration": 0.027772,
     "end_time": "2023-09-06T19:09:32.347823",
     "exception": false,
     "start_time": "2023-09-06T19:09:32.320051",
     "status": "completed"
    },
    "tags": []
   },
   "outputs": [
    {
     "data": {
      "text/plain": [
       "Salary\n",
       "72000    12\n",
       "80000    11\n",
       "79000    10\n",
       "75000     9\n",
       "71000     9\n",
       "59000     8\n",
       "43000     7\n",
       "74000     7\n",
       "60000     7\n",
       "55000     7\n",
       "Name: count, dtype: int64"
      ]
     },
     "execution_count": 9,
     "metadata": {},
     "output_type": "execute_result"
    }
   ],
   "source": [
    "data[\"Salary\"].value_counts()[:10]"
   ]
  },
  {
   "cell_type": "markdown",
   "id": "ae9ca119",
   "metadata": {
    "papermill": {
     "duration": 0.014423,
     "end_time": "2023-09-06T19:09:32.378240",
     "exception": false,
     "start_time": "2023-09-06T19:09:32.363817",
     "status": "completed"
    },
    "tags": []
   },
   "source": [
    "Many people have there income in between 50,000 - 80,000"
   ]
  },
  {
   "cell_type": "markdown",
   "id": "dc111161",
   "metadata": {
    "papermill": {
     "duration": 0.014408,
     "end_time": "2023-09-06T19:09:32.407124",
     "exception": false,
     "start_time": "2023-09-06T19:09:32.392716",
     "status": "completed"
    },
    "tags": []
   },
   "source": [
    "### Status"
   ]
  },
  {
   "cell_type": "code",
   "execution_count": 10,
   "id": "5e54c7d1",
   "metadata": {
    "execution": {
     "iopub.execute_input": "2023-09-06T19:09:32.438252Z",
     "iopub.status.busy": "2023-09-06T19:09:32.437840Z",
     "iopub.status.idle": "2023-09-06T19:09:32.693192Z",
     "shell.execute_reply": "2023-09-06T19:09:32.692021Z"
    },
    "papermill": {
     "duration": 0.273455,
     "end_time": "2023-09-06T19:09:32.695452",
     "exception": false,
     "start_time": "2023-09-06T19:09:32.421997",
     "status": "completed"
    },
    "tags": []
   },
   "outputs": [
    {
     "data": {
      "text/plain": [
       "<Axes: >"
      ]
     },
     "execution_count": 10,
     "metadata": {},
     "output_type": "execute_result"
    },
    {
     "data": {
      "image/png": "[encoded data removed]",
      "text/plain": [
       "<Figure size 640x480 with 1 Axes>"
      ]
     },
     "metadata": {},
     "output_type": "display_data"
    }
   ],
   "source": [
    "data[\"Status\"].hist()"
   ]
  },
  {
   "cell_type": "code",
   "execution_count": 11,
   "id": "2945d7c6",
   "metadata": {
    "execution": {
     "iopub.execute_input": "2023-09-06T19:09:32.726936Z",
     "iopub.status.busy": "2023-09-06T19:09:32.726461Z",
     "iopub.status.idle": "2023-09-06T19:09:32.734701Z",
     "shell.execute_reply": "2023-09-06T19:09:32.733687Z"
    },
    "papermill": {
     "duration": 0.027107,
     "end_time": "2023-09-06T19:09:32.737408",
     "exception": false,
     "start_time": "2023-09-06T19:09:32.710301",
     "status": "completed"
    },
    "tags": []
   },
   "outputs": [
    {
     "data": {
      "text/plain": [
       "Status\n",
       "0    257\n",
       "1    143\n",
       "Name: count, dtype: int64"
      ]
     },
     "execution_count": 11,
     "metadata": {},
     "output_type": "execute_result"
    }
   ],
   "source": [
    "data.Status.value_counts()"
   ]
  },
  {
   "cell_type": "code",
   "execution_count": 12,
   "id": "5108cbf4",
   "metadata": {
    "execution": {
     "iopub.execute_input": "2023-09-06T19:09:32.770360Z",
     "iopub.status.busy": "2023-09-06T19:09:32.769994Z",
     "iopub.status.idle": "2023-09-06T19:09:32.785064Z",
     "shell.execute_reply": "2023-09-06T19:09:32.783881Z"
    },
    "papermill": {
     "duration": 0.033714,
     "end_time": "2023-09-06T19:09:32.787461",
     "exception": false,
     "start_time": "2023-09-06T19:09:32.753747",
     "status": "completed"
    },
    "tags": []
   },
   "outputs": [
    {
     "data": {
      "text/html": [
       "<div>\n",
       "<style scoped>\n",
       "    .dataframe tbody tr th:only-of-type {\n",
       "        vertical-align: middle;\n",
       "    }\n",
       "\n",
       "    .dataframe tbody tr th {\n",
       "        vertical-align: top;\n",
       "    }\n",
       "\n",
       "    .dataframe thead th {\n",
       "        text-align: right;\n",
       "    }\n",
       "</style>\n",
       "<table border=\"1\" class=\"dataframe\">\n",
       "  <thead>\n",
       "    <tr style=\"text-align: right;\">\n",
       "      <th></th>\n",
       "      <th>Age</th>\n",
       "      <th>Salary</th>\n",
       "      <th>Status</th>\n",
       "    </tr>\n",
       "  </thead>\n",
       "  <tbody>\n",
       "    <tr>\n",
       "      <th>Age</th>\n",
       "      <td>1.000000</td>\n",
       "      <td>0.155238</td>\n",
       "      <td>0.622454</td>\n",
       "    </tr>\n",
       "    <tr>\n",
       "      <th>Salary</th>\n",
       "      <td>0.155238</td>\n",
       "      <td>1.000000</td>\n",
       "      <td>0.362083</td>\n",
       "    </tr>\n",
       "    <tr>\n",
       "      <th>Status</th>\n",
       "      <td>0.622454</td>\n",
       "      <td>0.362083</td>\n",
       "      <td>1.000000</td>\n",
       "    </tr>\n",
       "  </tbody>\n",
       "</table>\n",
       "</div>"
      ],
      "text/plain": [
       "             Age    Salary    Status\n",
       "Age     1.000000  0.155238  0.622454\n",
       "Salary  0.155238  1.000000  0.362083\n",
       "Status  0.622454  0.362083  1.000000"
      ]
     },
     "execution_count": 12,
     "metadata": {},
     "output_type": "execute_result"
    }
   ],
   "source": [
    "data.corr()"
   ]
  },
  {
   "cell_type": "code",
   "execution_count": 13,
   "id": "be28f902",
   "metadata": {
    "execution": {
     "iopub.execute_input": "2023-09-06T19:09:32.820102Z",
     "iopub.status.busy": "2023-09-06T19:09:32.819695Z",
     "iopub.status.idle": "2023-09-06T19:09:34.731545Z",
     "shell.execute_reply": "2023-09-06T19:09:34.730549Z"
    },
    "papermill": {
     "duration": 1.931044,
     "end_time": "2023-09-06T19:09:34.733858",
     "exception": false,
     "start_time": "2023-09-06T19:09:32.802814",
     "status": "completed"
    },
    "tags": []
   },
   "outputs": [
    {
     "data": {
      "text/plain": [
       "(3.5, -0.5)"
      ]
     },
     "execution_count": 13,
     "metadata": {},
     "output_type": "execute_result"
    },
    {
     "data": {
      "image/png": "[encoded data removed]",
      "text/plain": [
       "<Figure size 1500x1000 with 2 Axes>"
      ]
     },
     "metadata": {},
     "output_type": "display_data"
    }
   ],
   "source": [
    "import seaborn as sns\n",
    "corr_matrix = data.corr()\n",
    "fig, ax = plt.subplots(figsize=(15, 10))\n",
    "ax = sns.heatmap(corr_matrix,\n",
    "                 annot=True,\n",
    "                 fmt=\".2f\",\n",
    "                 cmap=\"YlGnBu\");\n",
    "bottom, top = ax.get_ylim()\n",
    "ax.set_ylim(bottom + 0.5, top - 0.5)"
   ]
  },
  {
   "cell_type": "markdown",
   "id": "39efa453",
   "metadata": {
    "papermill": {
     "duration": 0.015588,
     "end_time": "2023-09-06T19:09:34.765577",
     "exception": false,
     "start_time": "2023-09-06T19:09:34.749989",
     "status": "completed"
    },
    "tags": []
   },
   "source": [
    "Age and Status have strong corelation, it mean as age increase, possibility of purachse is increased."
   ]
  },
  {
   "cell_type": "markdown",
   "id": "d357b8ff",
   "metadata": {
    "papermill": {
     "duration": 0.015362,
     "end_time": "2023-09-06T19:09:34.796494",
     "exception": false,
     "start_time": "2023-09-06T19:09:34.781132",
     "status": "completed"
    },
    "tags": []
   },
   "source": [
    "In our data, out of 400 people, 143 people purchased product."
   ]
  },
  {
   "cell_type": "markdown",
   "id": "2af71e8e",
   "metadata": {
    "papermill": {
     "duration": 0.016164,
     "end_time": "2023-09-06T19:09:34.829150",
     "exception": false,
     "start_time": "2023-09-06T19:09:34.812986",
     "status": "completed"
    },
    "tags": []
   },
   "source": [
    "# 5. Split Data\n",
    "\n",
    "1. **Features x**: `Age` & `Salary`.\n",
    "2. **Label y**: `Status`"
   ]
  },
  {
   "cell_type": "code",
   "execution_count": 14,
   "id": "a256548e",
   "metadata": {
    "execution": {
     "iopub.execute_input": "2023-09-06T19:09:34.862691Z",
     "iopub.status.busy": "2023-09-06T19:09:34.861889Z",
     "iopub.status.idle": "2023-09-06T19:09:34.877262Z",
     "shell.execute_reply": "2023-09-06T19:09:34.876184Z"
    },
    "papermill": {
     "duration": 0.034781,
     "end_time": "2023-09-06T19:09:34.879346",
     "exception": false,
     "start_time": "2023-09-06T19:09:34.844565",
     "status": "completed"
    },
    "tags": []
   },
   "outputs": [
    {
     "data": {
      "text/html": [
       "<div>\n",
       "<style scoped>\n",
       "    .dataframe tbody tr th:only-of-type {\n",
       "        vertical-align: middle;\n",
       "    }\n",
       "\n",
       "    .dataframe tbody tr th {\n",
       "        vertical-align: top;\n",
       "    }\n",
       "\n",
       "    .dataframe thead th {\n",
       "        text-align: right;\n",
       "    }\n",
       "</style>\n",
       "<table border=\"1\" class=\"dataframe\">\n",
       "  <thead>\n",
       "    <tr style=\"text-align: right;\">\n",
       "      <th></th>\n",
       "      <th>Age</th>\n",
       "      <th>Salary</th>\n",
       "    </tr>\n",
       "  </thead>\n",
       "  <tbody>\n",
       "    <tr>\n",
       "      <th>0</th>\n",
       "      <td>18</td>\n",
       "      <td>82000</td>\n",
       "    </tr>\n",
       "    <tr>\n",
       "      <th>1</th>\n",
       "      <td>29</td>\n",
       "      <td>80000</td>\n",
       "    </tr>\n",
       "    <tr>\n",
       "      <th>2</th>\n",
       "      <td>47</td>\n",
       "      <td>25000</td>\n",
       "    </tr>\n",
       "    <tr>\n",
       "      <th>3</th>\n",
       "      <td>45</td>\n",
       "      <td>26000</td>\n",
       "    </tr>\n",
       "    <tr>\n",
       "      <th>4</th>\n",
       "      <td>46</td>\n",
       "      <td>28000</td>\n",
       "    </tr>\n",
       "    <tr>\n",
       "      <th>...</th>\n",
       "      <td>...</td>\n",
       "      <td>...</td>\n",
       "    </tr>\n",
       "    <tr>\n",
       "      <th>395</th>\n",
       "      <td>35</td>\n",
       "      <td>65000</td>\n",
       "    </tr>\n",
       "    <tr>\n",
       "      <th>396</th>\n",
       "      <td>26</td>\n",
       "      <td>80000</td>\n",
       "    </tr>\n",
       "    <tr>\n",
       "      <th>397</th>\n",
       "      <td>26</td>\n",
       "      <td>52000</td>\n",
       "    </tr>\n",
       "    <tr>\n",
       "      <th>398</th>\n",
       "      <td>20</td>\n",
       "      <td>86000</td>\n",
       "    </tr>\n",
       "    <tr>\n",
       "      <th>399</th>\n",
       "      <td>32</td>\n",
       "      <td>18000</td>\n",
       "    </tr>\n",
       "  </tbody>\n",
       "</table>\n",
       "<p>400 rows × 2 columns</p>\n",
       "</div>"
      ],
      "text/plain": [
       "     Age  Salary\n",
       "0     18   82000\n",
       "1     29   80000\n",
       "2     47   25000\n",
       "3     45   26000\n",
       "4     46   28000\n",
       "..   ...     ...\n",
       "395   35   65000\n",
       "396   26   80000\n",
       "397   26   52000\n",
       "398   20   86000\n",
       "399   32   18000\n",
       "\n",
       "[400 rows x 2 columns]"
      ]
     },
     "execution_count": 14,
     "metadata": {},
     "output_type": "execute_result"
    }
   ],
   "source": [
    "x = data.drop(\"Status\",axis=1)\n",
    "x"
   ]
  },
  {
   "cell_type": "code",
   "execution_count": 15,
   "id": "8712ff3c",
   "metadata": {
    "execution": {
     "iopub.execute_input": "2023-09-06T19:09:34.912530Z",
     "iopub.status.busy": "2023-09-06T19:09:34.912141Z",
     "iopub.status.idle": "2023-09-06T19:09:34.920347Z",
     "shell.execute_reply": "2023-09-06T19:09:34.919364Z"
    },
    "papermill": {
     "duration": 0.027037,
     "end_time": "2023-09-06T19:09:34.922326",
     "exception": false,
     "start_time": "2023-09-06T19:09:34.895289",
     "status": "completed"
    },
    "tags": []
   },
   "outputs": [
    {
     "data": {
      "text/plain": [
       "0      0\n",
       "1      0\n",
       "2      1\n",
       "3      1\n",
       "4      1\n",
       "      ..\n",
       "395    0\n",
       "396    0\n",
       "397    0\n",
       "398    0\n",
       "399    0\n",
       "Name: Status, Length: 400, dtype: int64"
      ]
     },
     "execution_count": 15,
     "metadata": {},
     "output_type": "execute_result"
    }
   ],
   "source": [
    "y = data[\"Status\"]\n",
    "y"
   ]
  },
  {
   "cell_type": "markdown",
   "id": "579b0970",
   "metadata": {
    "execution": {
     "iopub.execute_input": "2023-09-06T17:47:08.521908Z",
     "iopub.status.busy": "2023-09-06T17:47:08.521489Z",
     "iopub.status.idle": "2023-09-06T17:47:08.531473Z",
     "shell.execute_reply": "2023-09-06T17:47:08.529238Z",
     "shell.execute_reply.started": "2023-09-06T17:47:08.521879Z"
    },
    "papermill": {
     "duration": 0.015551,
     "end_time": "2023-09-06T19:09:34.953942",
     "exception": false,
     "start_time": "2023-09-06T19:09:34.938391",
     "status": "completed"
    },
    "tags": []
   },
   "source": [
    "### Split data into Training data and Test data.\n",
    "\n",
    "I'm giving 80% data to train set and 20% data to Test set."
   ]
  },
  {
   "cell_type": "code",
   "execution_count": 16,
   "id": "4b5e3df7",
   "metadata": {
    "execution": {
     "iopub.execute_input": "2023-09-06T19:09:34.987443Z",
     "iopub.status.busy": "2023-09-06T19:09:34.987051Z",
     "iopub.status.idle": "2023-09-06T19:09:35.259092Z",
     "shell.execute_reply": "2023-09-06T19:09:35.258127Z"
    },
    "papermill": {
     "duration": 0.292135,
     "end_time": "2023-09-06T19:09:35.261760",
     "exception": false,
     "start_time": "2023-09-06T19:09:34.969625",
     "status": "completed"
    },
    "tags": []
   },
   "outputs": [],
   "source": [
    "from sklearn.model_selection import train_test_split\n",
    "x_train,x_test,y_train,y_test = train_test_split(x,y,test_size=0.2)"
   ]
  },
  {
   "cell_type": "code",
   "execution_count": 17,
   "id": "6820f2d9",
   "metadata": {
    "execution": {
     "iopub.execute_input": "2023-09-06T19:09:35.296385Z",
     "iopub.status.busy": "2023-09-06T19:09:35.295581Z",
     "iopub.status.idle": "2023-09-06T19:09:35.302906Z",
     "shell.execute_reply": "2023-09-06T19:09:35.301753Z"
    },
    "papermill": {
     "duration": 0.027029,
     "end_time": "2023-09-06T19:09:35.305247",
     "exception": false,
     "start_time": "2023-09-06T19:09:35.278218",
     "status": "completed"
    },
    "tags": []
   },
   "outputs": [
    {
     "data": {
      "text/plain": [
       "((320, 2), (80, 2), (320,), (80,))"
      ]
     },
     "execution_count": 17,
     "metadata": {},
     "output_type": "execute_result"
    }
   ],
   "source": [
    "x_train.shape,x_test.shape,y_train.shape,y_test.shape"
   ]
  },
  {
   "cell_type": "code",
   "execution_count": 18,
   "id": "cf392b96",
   "metadata": {
    "execution": {
     "iopub.execute_input": "2023-09-06T19:09:35.340070Z",
     "iopub.status.busy": "2023-09-06T19:09:35.339307Z",
     "iopub.status.idle": "2023-09-06T19:09:35.346104Z",
     "shell.execute_reply": "2023-09-06T19:09:35.345186Z"
    },
    "papermill": {
     "duration": 0.02682,
     "end_time": "2023-09-06T19:09:35.348227",
     "exception": false,
     "start_time": "2023-09-06T19:09:35.321407",
     "status": "completed"
    },
    "tags": []
   },
   "outputs": [
    {
     "data": {
      "text/plain": [
       "80.0"
      ]
     },
     "execution_count": 18,
     "metadata": {},
     "output_type": "execute_result"
    }
   ],
   "source": [
    "len(x_train)/len(x)*100"
   ]
  },
  {
   "cell_type": "markdown",
   "id": "0c9ae528",
   "metadata": {
    "papermill": {
     "duration": 0.015893,
     "end_time": "2023-09-06T19:09:35.380408",
     "exception": false,
     "start_time": "2023-09-06T19:09:35.364515",
     "status": "completed"
    },
    "tags": []
   },
   "source": [
    "Above cell validate, our train data set is 80% of total data."
   ]
  },
  {
   "cell_type": "markdown",
   "id": "9a79adaf",
   "metadata": {
    "papermill": {
     "duration": 0.015779,
     "end_time": "2023-09-06T19:09:35.412283",
     "exception": false,
     "start_time": "2023-09-06T19:09:35.396504",
     "status": "completed"
    },
    "tags": []
   },
   "source": [
    "# 6. Feature Scaling:\n",
    "\n",
    "We scale our data to make all the features contribute equally to the result\n",
    "\n",
    "**Fit_Transform** - fit method is calculating the mean and variance of each of the features present in our data.\n",
    "\n",
    "**Transform** - Transform method is transforming all the features using the respective mean and variance, \n",
    "We want our test data to be a completely new and a surprise set for our model"
   ]
  },
  {
   "cell_type": "code",
   "execution_count": 19,
   "id": "77689cb5",
   "metadata": {
    "execution": {
     "iopub.execute_input": "2023-09-06T19:09:35.446433Z",
     "iopub.status.busy": "2023-09-06T19:09:35.446058Z",
     "iopub.status.idle": "2023-09-06T19:09:35.456948Z",
     "shell.execute_reply": "2023-09-06T19:09:35.455846Z"
    },
    "papermill": {
     "duration": 0.030709,
     "end_time": "2023-09-06T19:09:35.459220",
     "exception": false,
     "start_time": "2023-09-06T19:09:35.428511",
     "status": "completed"
    },
    "tags": []
   },
   "outputs": [],
   "source": [
    "from sklearn.preprocessing import StandardScaler\n",
    "sc = StandardScaler()\n",
    "x_train = sc.fit_transform(x_train) \n",
    "x_test = sc.transform(x_test) "
   ]
  },
  {
   "cell_type": "code",
   "execution_count": 20,
   "id": "acc405a1",
   "metadata": {
    "execution": {
     "iopub.execute_input": "2023-09-06T19:09:35.493158Z",
     "iopub.status.busy": "2023-09-06T19:09:35.492741Z",
     "iopub.status.idle": "2023-09-06T19:09:35.502466Z",
     "shell.execute_reply": "2023-09-06T19:09:35.501446Z"
    },
    "papermill": {
     "duration": 0.029278,
     "end_time": "2023-09-06T19:09:35.504671",
     "exception": false,
     "start_time": "2023-09-06T19:09:35.475393",
     "status": "completed"
    },
    "tags": []
   },
   "outputs": [
    {
     "data": {
      "text/html": [
       "<div>\n",
       "<style scoped>\n",
       "    .dataframe tbody tr th:only-of-type {\n",
       "        vertical-align: middle;\n",
       "    }\n",
       "\n",
       "    .dataframe tbody tr th {\n",
       "        vertical-align: top;\n",
       "    }\n",
       "\n",
       "    .dataframe thead th {\n",
       "        text-align: right;\n",
       "    }\n",
       "</style>\n",
       "<table border=\"1\" class=\"dataframe\">\n",
       "  <thead>\n",
       "    <tr style=\"text-align: right;\">\n",
       "      <th></th>\n",
       "      <th>0</th>\n",
       "      <th>1</th>\n",
       "    </tr>\n",
       "  </thead>\n",
       "  <tbody>\n",
       "    <tr>\n",
       "      <th>0</th>\n",
       "      <td>1.151801</td>\n",
       "      <td>-1.414847</td>\n",
       "    </tr>\n",
       "    <tr>\n",
       "      <th>1</th>\n",
       "      <td>-0.081213</td>\n",
       "      <td>-0.461018</td>\n",
       "    </tr>\n",
       "    <tr>\n",
       "      <th>2</th>\n",
       "      <td>-1.788463</td>\n",
       "      <td>0.463908</td>\n",
       "    </tr>\n",
       "    <tr>\n",
       "      <th>3</th>\n",
       "      <td>0.013634</td>\n",
       "      <td>-0.114170</td>\n",
       "    </tr>\n",
       "    <tr>\n",
       "      <th>4</th>\n",
       "      <td>0.013634</td>\n",
       "      <td>-0.547729</td>\n",
       "    </tr>\n",
       "  </tbody>\n",
       "</table>\n",
       "</div>"
      ],
      "text/plain": [
       "          0         1\n",
       "0  1.151801 -1.414847\n",
       "1 -0.081213 -0.461018\n",
       "2 -1.788463  0.463908\n",
       "3  0.013634 -0.114170\n",
       "4  0.013634 -0.547729"
      ]
     },
     "execution_count": 20,
     "metadata": {},
     "output_type": "execute_result"
    }
   ],
   "source": [
    "pd.DataFrame(x_train).head()"
   ]
  },
  {
   "cell_type": "markdown",
   "id": "deb1d647",
   "metadata": {
    "papermill": {
     "duration": 0.015941,
     "end_time": "2023-09-06T19:09:35.536807",
     "exception": false,
     "start_time": "2023-09-06T19:09:35.520866",
     "status": "completed"
    },
    "tags": []
   },
   "source": [
    "# 7. Model Traning"
   ]
  },
  {
   "cell_type": "code",
   "execution_count": 21,
   "id": "cbd6f620",
   "metadata": {
    "execution": {
     "iopub.execute_input": "2023-09-06T19:09:35.570766Z",
     "iopub.status.busy": "2023-09-06T19:09:35.570392Z",
     "iopub.status.idle": "2023-09-06T19:09:35.678641Z",
     "shell.execute_reply": "2023-09-06T19:09:35.677418Z"
    },
    "papermill": {
     "duration": 0.12808,
     "end_time": "2023-09-06T19:09:35.681043",
     "exception": false,
     "start_time": "2023-09-06T19:09:35.552963",
     "status": "completed"
    },
    "tags": []
   },
   "outputs": [
    {
     "data": {
      "text/plain": [
       "0.8875"
      ]
     },
     "execution_count": 21,
     "metadata": {},
     "output_type": "execute_result"
    }
   ],
   "source": [
    "from sklearn.linear_model import LogisticRegression\n",
    "model = LogisticRegression()\n",
    "model.fit(x_train, y_train)\n",
    "y_preds = model.predict(x_test)\n",
    "model.score(x_test,y_test)\n"
   ]
  },
  {
   "cell_type": "markdown",
   "id": "498cd874",
   "metadata": {
    "papermill": {
     "duration": 0.018457,
     "end_time": "2023-09-06T19:09:35.716400",
     "exception": false,
     "start_time": "2023-09-06T19:09:35.697943",
     "status": "completed"
    },
    "tags": []
   },
   "source": [
    "# 8. Model Evaluation."
   ]
  },
  {
   "cell_type": "code",
   "execution_count": 22,
   "id": "4e00fc8a",
   "metadata": {
    "execution": {
     "iopub.execute_input": "2023-09-06T19:09:35.752335Z",
     "iopub.status.busy": "2023-09-06T19:09:35.751905Z",
     "iopub.status.idle": "2023-09-06T19:09:35.756171Z",
     "shell.execute_reply": "2023-09-06T19:09:35.755390Z"
    },
    "papermill": {
     "duration": 0.024434,
     "end_time": "2023-09-06T19:09:35.758012",
     "exception": false,
     "start_time": "2023-09-06T19:09:35.733578",
     "status": "completed"
    },
    "tags": []
   },
   "outputs": [],
   "source": [
    "from sklearn.metrics import accuracy_score,precision_score,f1_score,recall_score, confusion_matrix"
   ]
  },
  {
   "cell_type": "code",
   "execution_count": 23,
   "id": "ae976d8f",
   "metadata": {
    "execution": {
     "iopub.execute_input": "2023-09-06T19:09:35.793231Z",
     "iopub.status.busy": "2023-09-06T19:09:35.792091Z",
     "iopub.status.idle": "2023-09-06T19:09:35.799764Z",
     "shell.execute_reply": "2023-09-06T19:09:35.798959Z"
    },
    "papermill": {
     "duration": 0.027272,
     "end_time": "2023-09-06T19:09:35.801823",
     "exception": false,
     "start_time": "2023-09-06T19:09:35.774551",
     "status": "completed"
    },
    "tags": []
   },
   "outputs": [
    {
     "data": {
      "text/plain": [
       "array([[53,  6],\n",
       "       [ 3, 18]])"
      ]
     },
     "execution_count": 23,
     "metadata": {},
     "output_type": "execute_result"
    }
   ],
   "source": [
    "confusion_matrix(y_test,y_preds)"
   ]
  },
  {
   "cell_type": "markdown",
   "id": "0cdd6062",
   "metadata": {
    "papermill": {
     "duration": 0.016302,
     "end_time": "2023-09-06T19:09:35.834728",
     "exception": false,
     "start_time": "2023-09-06T19:09:35.818426",
     "status": "completed"
    },
    "tags": []
   },
   "source": [
    "Here I,m going to create function, to evaluate our model."
   ]
  },
  {
   "cell_type": "code",
   "execution_count": 24,
   "id": "166b3383",
   "metadata": {
    "execution": {
     "iopub.execute_input": "2023-09-06T19:09:35.870174Z",
     "iopub.status.busy": "2023-09-06T19:09:35.869745Z",
     "iopub.status.idle": "2023-09-06T19:09:35.875413Z",
     "shell.execute_reply": "2023-09-06T19:09:35.874247Z"
    },
    "papermill": {
     "duration": 0.025751,
     "end_time": "2023-09-06T19:09:35.877480",
     "exception": false,
     "start_time": "2023-09-06T19:09:35.851729",
     "status": "completed"
    },
    "tags": []
   },
   "outputs": [],
   "source": [
    "def eval_model(y_test,y_preds):\n",
    "    '''\n",
    "    This function take input true label and predicted label and \n",
    "    calculate accuracy, precision, recall, \n",
    "    '''\n",
    "    print(f\"The accuracy of model is {accuracy_score(y_test,y_preds)*100:.2f}%\")\n",
    "    print(f\"The precision of model is {precision_score(y_test,y_preds)*100:.2f}%\")\n",
    "    print(f\"The recall of model is {recall_score(y_test,y_preds)*100:.2f}%\")\n",
    "    "
   ]
  },
  {
   "cell_type": "code",
   "execution_count": 25,
   "id": "2b3cf653",
   "metadata": {
    "execution": {
     "iopub.execute_input": "2023-09-06T19:09:35.913989Z",
     "iopub.status.busy": "2023-09-06T19:09:35.913165Z",
     "iopub.status.idle": "2023-09-06T19:09:35.925059Z",
     "shell.execute_reply": "2023-09-06T19:09:35.923761Z"
    },
    "papermill": {
     "duration": 0.032522,
     "end_time": "2023-09-06T19:09:35.927265",
     "exception": false,
     "start_time": "2023-09-06T19:09:35.894743",
     "status": "completed"
    },
    "tags": []
   },
   "outputs": [
    {
     "name": "stdout",
     "output_type": "stream",
     "text": [
      "The accuracy of model is 88.75%\n",
      "The precision of model is 75.00%\n",
      "The recall of model is 85.71%\n"
     ]
    }
   ],
   "source": [
    "eval_model(y_test,y_preds)"
   ]
  },
  {
   "cell_type": "markdown",
   "id": "6c58ff14",
   "metadata": {
    "papermill": {
     "duration": 0.017073,
     "end_time": "2023-09-06T19:09:35.961665",
     "exception": false,
     "start_time": "2023-09-06T19:09:35.944592",
     "status": "completed"
    },
    "tags": []
   },
   "source": [
    "# 9. Hyperparameter Tunning"
   ]
  },
  {
   "cell_type": "markdown",
   "id": "3be4315a",
   "metadata": {
    "papermill": {
     "duration": 0.016724,
     "end_time": "2023-09-06T19:09:35.995400",
     "exception": false,
     "start_time": "2023-09-06T19:09:35.978676",
     "status": "completed"
    },
    "tags": []
   },
   "source": [
    "Logistic regression does not really have any critical hyperparameters to tune.\n",
    "\n",
    "Sometimes, you can see useful differences in performance or convergence with different solvers (solver).\n",
    "\n",
    "* solver in [‘newton-cg’, ‘lbfgs’, ‘liblinear’, ‘sag’, ‘saga’]\n",
    "* Regularization (penalty) can sometimes be helpful.\n",
    " Penalty in [‘none’, ‘l1’, ‘l2’, ‘elasticnet’]\n",
    "\n",
    "* The C parameter controls the penality strength, which can also be effective. C in [100, 10, 1.0, 0.1, 0.01]\n",
    "\n",
    "source: https://machinelearningmastery.com/hyperparameters-for-classification-machine-learning-algorithms/"
   ]
  },
  {
   "cell_type": "code",
   "execution_count": 26,
   "id": "3e5df26b",
   "metadata": {
    "execution": {
     "iopub.execute_input": "2023-09-06T19:09:36.029924Z",
     "iopub.status.busy": "2023-09-06T19:09:36.029509Z",
     "iopub.status.idle": "2023-09-06T19:09:36.035063Z",
     "shell.execute_reply": "2023-09-06T19:09:36.034099Z"
    },
    "papermill": {
     "duration": 0.025351,
     "end_time": "2023-09-06T19:09:36.037188",
     "exception": false,
     "start_time": "2023-09-06T19:09:36.011837",
     "status": "completed"
    },
    "tags": []
   },
   "outputs": [],
   "source": [
    "gs_grid = {'solver':['newton-cg', 'lbfgs', 'liblinear', 'sag', 'saga'],\n",
    "            'penalty':['none', 'l1', 'l2', 'elasticnet'],\n",
    "            'C':[100,10,1.0,0.1,0.5,1.5,0.01]\n",
    "}"
   ]
  },
  {
   "cell_type": "code",
   "execution_count": 27,
   "id": "74515457",
   "metadata": {
    "execution": {
     "iopub.execute_input": "2023-09-06T19:09:36.073964Z",
     "iopub.status.busy": "2023-09-06T19:09:36.072795Z",
     "iopub.status.idle": "2023-09-06T19:09:36.077656Z",
     "shell.execute_reply": "2023-09-06T19:09:36.076572Z"
    },
    "papermill": {
     "duration": 0.025544,
     "end_time": "2023-09-06T19:09:36.079844",
     "exception": false,
     "start_time": "2023-09-06T19:09:36.054300",
     "status": "completed"
    },
    "tags": []
   },
   "outputs": [],
   "source": [
    "# Ignore warnings\n",
    "import warnings\n",
    "warnings.filterwarnings(\"ignore\")"
   ]
  },
  {
   "cell_type": "code",
   "execution_count": 28,
   "id": "30d6ba10",
   "metadata": {
    "execution": {
     "iopub.execute_input": "2023-09-06T19:09:36.115860Z",
     "iopub.status.busy": "2023-09-06T19:09:36.115448Z",
     "iopub.status.idle": "2023-09-06T19:09:37.865114Z",
     "shell.execute_reply": "2023-09-06T19:09:37.864003Z"
    },
    "papermill": {
     "duration": 1.770749,
     "end_time": "2023-09-06T19:09:37.867746",
     "exception": false,
     "start_time": "2023-09-06T19:09:36.096997",
     "status": "completed"
    },
    "tags": []
   },
   "outputs": [
    {
     "name": "stdout",
     "output_type": "stream",
     "text": [
      "Fitting 5 folds for each of 140 candidates, totalling 700 fits\n"
     ]
    }
   ],
   "source": [
    "from sklearn.model_selection import GridSearchCV\n",
    "np.random.seed(42)\n",
    "\n",
    "gs_log_reg = GridSearchCV(LogisticRegression(),\n",
    "                          param_grid=gs_grid,\n",
    "                          cv=5,\n",
    "                          verbose=True)\n",
    "\n",
    "gs_log_reg.fit(x_train, y_train);"
   ]
  },
  {
   "cell_type": "code",
   "execution_count": 29,
   "id": "790a3840",
   "metadata": {
    "execution": {
     "iopub.execute_input": "2023-09-06T19:09:37.903352Z",
     "iopub.status.busy": "2023-09-06T19:09:37.902948Z",
     "iopub.status.idle": "2023-09-06T19:09:37.909890Z",
     "shell.execute_reply": "2023-09-06T19:09:37.908771Z"
    },
    "papermill": {
     "duration": 0.02754,
     "end_time": "2023-09-06T19:09:37.912322",
     "exception": false,
     "start_time": "2023-09-06T19:09:37.884782",
     "status": "completed"
    },
    "tags": []
   },
   "outputs": [
    {
     "data": {
      "text/plain": [
       "{'C': 0.1, 'penalty': 'l1', 'solver': 'liblinear'}"
      ]
     },
     "execution_count": 29,
     "metadata": {},
     "output_type": "execute_result"
    }
   ],
   "source": [
    "gs_log_reg.best_params_"
   ]
  },
  {
   "cell_type": "code",
   "execution_count": 30,
   "id": "7ecd6240",
   "metadata": {
    "execution": {
     "iopub.execute_input": "2023-09-06T19:09:37.947867Z",
     "iopub.status.busy": "2023-09-06T19:09:37.947502Z",
     "iopub.status.idle": "2023-09-06T19:09:37.957985Z",
     "shell.execute_reply": "2023-09-06T19:09:37.956575Z"
    },
    "papermill": {
     "duration": 0.030785,
     "end_time": "2023-09-06T19:09:37.960056",
     "exception": false,
     "start_time": "2023-09-06T19:09:37.929271",
     "status": "completed"
    },
    "tags": []
   },
   "outputs": [
    {
     "name": "stdout",
     "output_type": "stream",
     "text": [
      "The accuracy of model is 88.75%\n",
      "The precision of model is 73.08%\n",
      "The recall of model is 90.48%\n"
     ]
    }
   ],
   "source": [
    "y_preds2 = gs_log_reg.predict(x_test)\n",
    "eval_model(y_test,y_preds2)"
   ]
  },
  {
   "cell_type": "markdown",
   "id": "27c47afe",
   "metadata": {
    "papermill": {
     "duration": 0.016626,
     "end_time": "2023-09-06T19:09:37.993523",
     "exception": false,
     "start_time": "2023-09-06T19:09:37.976897",
     "status": "completed"
    },
    "tags": []
   },
   "source": [
    "By tunning hyperparameter, we've improved accuracy to 85 percet,\n",
    "Still there are way to improve accuracy by tring other model."
   ]
  },
  {
   "cell_type": "markdown",
   "id": "794f07d5",
   "metadata": {
    "papermill": {
     "duration": 0.016688,
     "end_time": "2023-09-06T19:09:38.027286",
     "exception": false,
     "start_time": "2023-09-06T19:09:38.010598",
     "status": "completed"
    },
    "tags": []
   },
   "source": [
    "# 10. Prediction on user input."
   ]
  },
  {
   "cell_type": "markdown",
   "id": "734aa895",
   "metadata": {
    "papermill": {
     "duration": 0.016722,
     "end_time": "2023-09-06T19:09:38.061242",
     "exception": false,
     "start_time": "2023-09-06T19:09:38.044520",
     "status": "completed"
    },
    "tags": []
   },
   "source": [
    "### *Predicting, wheather new customer with Age & Salary will Buy or Not*\n"
   ]
  },
  {
   "cell_type": "code",
   "execution_count": 31,
   "id": "194693a4",
   "metadata": {
    "execution": {
     "iopub.execute_input": "2023-09-06T19:09:38.096432Z",
     "iopub.status.busy": "2023-09-06T19:09:38.096047Z",
     "iopub.status.idle": "2023-09-06T19:09:38.103583Z",
     "shell.execute_reply": "2023-09-06T19:09:38.102343Z"
    },
    "papermill": {
     "duration": 0.027874,
     "end_time": "2023-09-06T19:09:38.105773",
     "exception": false,
     "start_time": "2023-09-06T19:09:38.077899",
     "status": "completed"
    },
    "tags": []
   },
   "outputs": [
    {
     "name": "stdout",
     "output_type": "stream",
     "text": [
      "[1]\n",
      "Customer will Buy\n"
     ]
    }
   ],
   "source": [
    "# While saving notebook these input, causing error in code, so i am giving input in cell itself.\n",
    "# age = int(input(\"Enter New Customer Age: \"))\n",
    "# salary = int(input(\"Enter New Customer Salary: \"))\n",
    "age = 55\n",
    "salary = 35000\n",
    "newCust = [[age,salary]]\n",
    "result = gs_log_reg.predict(sc.transform(newCust))\n",
    "print(result)\n",
    "if result == 1:\n",
    "  print(\"Customer will Buy\")\n",
    "else:\n",
    "  print(\"Customer won't Buy\")"
   ]
  },
  {
   "cell_type": "markdown",
   "id": "daeaa521",
   "metadata": {
    "papermill": {
     "duration": 0.016784,
     "end_time": "2023-09-06T19:09:38.139522",
     "exception": false,
     "start_time": "2023-09-06T19:09:38.122738",
     "status": "completed"
    },
    "tags": []
   },
   "source": [
    " I would like to thanks **NIKHIL DHANANKAM** for data, **Worriers Way** for project idea.  "
   ]
  },
  {
   "cell_type": "markdown",
   "id": "6233de37",
   "metadata": {
    "papermill": {
     "duration": 0.016729,
     "end_time": "2023-09-06T19:09:38.173283",
     "exception": false,
     "start_time": "2023-09-06T19:09:38.156554",
     "status": "completed"
    },
    "tags": []
   },
   "source": [
    "##### As I am  a beginner in  ML, please comment your suggestions, improvements, or corrections"
   ]
  }
 ],
 "kernelspec": {
  "display_name": "Python 3",
  "language": "python",
  "name": "python3"
 },
 "language_info": {
  "codemirror_mode": {
   "name": "ipython",
   "version": 3
  },
  "file_extension": ".py",
  "mimetype": "text/x-python",
  "name": "python",
  "nbconvert_exporter": "python",
  "pygments_lexer": "ipython3",
  "version": "3.6.4"
 },
 "metadata": {
  "kernelspec": {
   "display_name": "Python 3",
   "language": "python",
   "name": "python3"
  },
  "language_info": {
   "codemirror_mode": {
    "name": "ipython",
    "version": 3
   },
   "file_extension": ".py",
   "mimetype": "text/x-python",
   "name": "python",
   "nbconvert_exporter": "python",
   "pygments_lexer": "ipython3",
   "version": "3.10.12"
  },
  "papermill": {
   "default_parameters": {},
   "duration": 11.408638,
   "end_time": "2023-09-06T19:09:38.811727",
   "environment_variables": {},
   "exception": null,
   "input_path": "__notebook__.ipynb",
   "output_path": "__notebook__.ipynb",
   "parameters": {},
   "start_time": "2023-09-06T19:09:27.403089",
   "version": "2.4.0"
  }
 },
 "nbformat": 4,
 "nbformat_minor": 5
}
